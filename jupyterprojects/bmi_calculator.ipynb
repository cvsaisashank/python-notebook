{
 "cells": [
  {
   "cell_type": "markdown",
   "metadata": {},
   "source": [
    "# BMI Calculator"
   ]
  },
  {
   "cell_type": "code",
   "execution_count": 16,
   "metadata": {},
   "outputs": [
    {
     "name": "stdout",
     "output_type": "stream",
     "text": [
      "BMI 30.12857142857143\n",
      "sahank, you are obese.\n"
     ]
    }
   ],
   "source": [
    "# BMI = (weight in pouds X 703) / (height in inches X height in inches)\n",
    "\n",
    "name = input(\"Enter your name: \")\n",
    "\n",
    "weight = int(input(\"Enter your weight in pounds: \"))\n",
    "\n",
    "height = int(input(\"Enter your height in inches: \"))\n",
    "\n",
    "BMI = (weight * 703) / (height * height)\n",
    "\n",
    "# height: 70 inches weight: 210\n",
    "\n",
    "print('BMI', BMI)\n",
    "\n",
    "if BMI > 0:\n",
    "  if BMI < 18.5:\n",
    "    print(name + ', you are underweight')\n",
    "  elif BMI < 24.9:\n",
    "     print(name + ', you are normal weight.')\n",
    "  elif BMI < 29.9:\n",
    "    print(name + ', you are normal weight.')\n",
    "  elif BMI < 34.9:\n",
    "    print(name + ', you are obese.')\n",
    "  elif BMI < 39.9:\n",
    "     print(name + ', you are severely obese.')\n",
    "  else:\n",
    "     print(name + ', you are morbidly obese.')\n",
    "else:\n",
    "   print('Enter valid input')    "
   ]
  }
 ],
 "metadata": {
  "kernelspec": {
   "display_name": "Python 3",
   "language": "python",
   "name": "python3"
  },
  "language_info": {
   "codemirror_mode": {
    "name": "ipython",
    "version": 3
   },
   "file_extension": ".py",
   "mimetype": "text/x-python",
   "name": "python",
   "nbconvert_exporter": "python",
   "pygments_lexer": "ipython3",
   "version": "3.11.6"
  }
 },
 "nbformat": 4,
 "nbformat_minor": 2
}
