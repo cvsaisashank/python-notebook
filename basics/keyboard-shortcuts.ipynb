{
 "cells": [
  {
   "cell_type": "markdown",
   "id": "5cfb8818-7d00-46b3-898d-9ea31746433c",
   "metadata": {
    "tags": []
   },
   "source": [
    "# Jupyterlab keyboard shortcuts\n"
   ]
  },
  {
   "cell_type": "markdown",
   "id": "79d2a88f-7ccb-4ae0-a07c-12678a942e8d",
   "metadata": {},
   "source": [
    "1. `M` : Swicth to markdown\n",
    "2. `A`: Create cells above\n",
    "3. `B`: create cells below\n",
    "4. `d + d`: delete cell\n",
    "5. `y` : swicth to code\n",
    "6. `ctrl + enter`: run cell and stau on cell\n",
    "7. `shift + enter`: run cell and go to next cell\n",
    "8. `edit` --> find & replace (usefull command in jupyterlab in browser)\n",
    "9. `x/c/v` : cut(x) , copy (c), paste (v) cells\n",
    "10. `shift + m` : merge cells\n",
    "11. `opt + up-arrow`: move cell up\n",
    "12. `opt + down-arrow`: move cell down\n"
   ]
  },
  {
   "cell_type": "markdown",
   "id": "3c17c161-37c1-4b83-b68e-20153c204d12",
   "metadata": {
    "tags": []
   },
   "source": [
    "# Markdown shortcuts\n"
   ]
  },
  {
   "cell_type": "markdown",
   "id": "bdfca985-e992-4aee-8efd-5d5a312fe794",
   "metadata": {},
   "source": [
    "## Headings\n",
    "\n",
    "1. \"#\" - Heading1\n",
    "1. \"##\" - Heading 2 (sub-heading)\n",
    "1. '###' - Heading 3\n",
    "1. '######' - Heading 6\n",
    "1. \"1.\" - for numbering\n"
   ]
  },
  {
   "cell_type": "markdown",
   "id": "b4c63f06-ce00-4a4b-978e-ac98fdc97696",
   "metadata": {},
   "source": [
    "## Horizontal line\n",
    "\n",
    "`---`\n",
    "\n",
    "It sepeartes content\n"
   ]
  },
  {
   "cell_type": "markdown",
   "metadata": {},
   "source": [
    "## Ordered list\n",
    "\n",
    "\"\n",
    "\"1\". Item1\n",
    "\"1\". Item2\n",
    "\"1\". Item3\n",
    "\"\n"
   ]
  },
  {
   "cell_type": "markdown",
   "metadata": {},
   "source": [
    "## Unorder list\n",
    "\n",
    "use `-` with a space.\n"
   ]
  },
  {
   "cell_type": "markdown",
   "metadata": {},
   "source": [
    "## Links\n",
    "\n",
    "## \"[youtobe](https://youtobe.com)\"\n",
    "\n",
    "\"[link-name](link goes here)\"\n"
   ]
  },
  {
   "cell_type": "markdown",
   "metadata": {},
   "source": [
    "## Images\n",
    "\n",
    "![alt text goes here](image goes here)\n"
   ]
  },
  {
   "cell_type": "markdown",
   "metadata": {},
   "source": [
    "1.dsds\n"
   ]
  },
  {
   "cell_type": "markdown",
   "metadata": {},
   "source": [
    "## Emoji\n",
    "\n",
    ":name of the emoji:\n",
    "\n",
    ":joy:\n"
   ]
  },
  {
   "cell_type": "markdown",
   "metadata": {},
   "source": [
    "## Comments\n",
    "\n",
    "Write like below:\n",
    "\"[This is a hiiden comment.]: #\"\n"
   ]
  },
  {
   "cell_type": "markdown",
   "metadata": {},
   "source": [
    "## Tables\n",
    "\n",
    "We can use [table-magic](https://stevecat.net/table-magic/#)\n",
    "\n",
    "\"\n",
    "| Right Aligned | Center Aligned | Left Aligned |\n",
    "|--------------:|:--------------:|:-------------|\n",
    "|        Cell 1 |     Cell 2     | Cell 3       |\n",
    "\n",
    "\"\n",
    "\n",
    "| Right Aligned | Center Aligned | Left Aligned |\n",
    "|--------------:|:--------------:|:-------------|\n",
    "|        Cell 1 |     Cell 2     | Cell 3       |\n"
   ]
  },
  {
   "attachments": {
    "random.png": {
     "image/png": "[encoded data removed]"
    }
   },
   "cell_type": "markdown",
   "metadata": {},
   "source": [
    "## Images\n",
    "\n",
    "![alt picture name](add image path or name here)  \n",
    "\n",
    "we can use `Markdown Image` vscode extension by helcen, very helpfull\n",
    "\n",
    "![random.png](attachment:random.png)\n"
   ]
  },
  {
   "cell_type": "markdown",
   "metadata": {},
   "source": []
  }
 ],
 "metadata": {
  "kernelspec": {
   "display_name": "Python 3 (ipykernel)",
   "language": "python",
   "name": "python3"
  },
  "language_info": {
   "codemirror_mode": {
    "name": "ipython",
    "version": 3
   },
   "file_extension": ".py",
   "mimetype": "text/x-python",
   "name": "python",
   "nbconvert_exporter": "python",
   "pygments_lexer": "ipython3",
   "version": "3.11.6"
  }
 },
 "nbformat": 4,
 "nbformat_minor": 5
}
