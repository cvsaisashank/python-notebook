{
 "cells": [
  {
   "cell_type": "markdown",
   "metadata": {},
   "source": [
    "# If - Elfif - Else Statements\n"
   ]
  },
  {
   "cell_type": "markdown",
   "metadata": {},
   "source": [
    "## If Statement"
   ]
  },
  {
   "cell_type": "code",
   "execution_count": 2,
   "metadata": {},
   "outputs": [
    {
     "name": "stdout",
     "output_type": "stream",
     "text": [
      "It worked\n"
     ]
    }
   ],
   "source": [
    "if 25 >10:\n",
    "  print('It worked')"
   ]
  },
  {
   "cell_type": "markdown",
   "metadata": {},
   "source": [
    "## If - else Statement"
   ]
  },
  {
   "cell_type": "code",
   "execution_count": 3,
   "metadata": {},
   "outputs": [
    {
     "name": "stdout",
     "output_type": "stream",
     "text": [
      "It did not work\n"
     ]
    }
   ],
   "source": [
    "if 25 < 10:\n",
    "  print('It worked')\n",
    "else:\n",
    "  print('It did not work')"
   ]
  },
  {
   "cell_type": "markdown",
   "metadata": {},
   "source": [
    "### inline shortcut"
   ]
  },
  {
   "cell_type": "code",
   "execution_count": 8,
   "metadata": {},
   "outputs": [
    {
     "name": "stdout",
     "output_type": "stream",
     "text": [
      "It did not work....\n"
     ]
    }
   ],
   "source": [
    "print('It worked') if 10 > 30 else print('It did not work....')"
   ]
  },
  {
   "cell_type": "markdown",
   "metadata": {},
   "source": [
    "## If - elif - else Statement\n",
    "\n",
    "There will be only one `if` and `else` but there can be many `elif`"
   ]
  },
  {
   "cell_type": "code",
   "execution_count": 7,
   "metadata": {},
   "outputs": [
    {
     "name": "stdout",
     "output_type": "stream",
     "text": [
      "elif 2 worked\n"
     ]
    }
   ],
   "source": [
    "if 25 < 10:\n",
    "  print('It worked')\n",
    "elif 25 <20:\n",
    "  print('elif 1 worked')\n",
    "elif 25 < 26:\n",
    "  print('elif 2 worked')\n",
    "elif 25 < 30:\n",
    "  print('elif 3 worked')\n",
    "else:\n",
    "  print('It did not work')"
   ]
  },
  {
   "cell_type": "markdown",
   "metadata": {},
   "source": [
    "## Nested If"
   ]
  },
  {
   "cell_type": "code",
   "execution_count": 10,
   "metadata": {},
   "outputs": [
    {
     "name": "stdout",
     "output_type": "stream",
     "text": [
      "It worked\n",
      "This nested if statement worked!\n"
     ]
    }
   ],
   "source": [
    "if 5 < 10:\n",
    "  print('It worked')\n",
    "  if 10 > 5:\n",
    "    print('This nested if statement worked!')\n",
    "elif 25 <20:\n",
    "  print('elif 1 worked')\n",
    "elif 25 < 26:\n",
    "  print('elif 2 worked')\n",
    "elif 25 < 30:\n",
    "  print('elif 3 worked')\n",
    "else:\n",
    "  print('It did not work')"
   ]
  },
  {
   "cell_type": "code",
   "execution_count": null,
   "metadata": {},
   "outputs": [],
   "source": []
  }
 ],
 "metadata": {
  "kernelspec": {
   "display_name": "Python 3",
   "language": "python",
   "name": "python3"
  },
  "language_info": {
   "codemirror_mode": {
    "name": "ipython",
    "version": 3
   },
   "file_extension": ".py",
   "mimetype": "text/x-python",
   "name": "python",
   "nbconvert_exporter": "python",
   "pygments_lexer": "ipython3",
   "version": "3.11.6"
  }
 },
 "nbformat": 4,
 "nbformat_minor": 2
}
