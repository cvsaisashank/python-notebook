{
 "cells": [
  {
   "cell_type": "markdown",
   "id": "e7ec42c8-dc45-4034-9beb-dad3b93147c9",
   "metadata": {},
   "source": [
    "# Variables in python"
   ]
  },
  {
   "cell_type": "code",
   "execution_count": null,
   "id": "0e1b1ec5-619f-4d53-b839-a08a6a3a2591",
   "metadata": {
    "tags": []
   },
   "outputs": [],
   "source": [
    "x = 22\n",
    "print(x)"
   ]
  },
  {
   "cell_type": "code",
   "execution_count": null,
   "id": "84beef85-14da-4a08-a4a0-b6391293d815",
   "metadata": {
    "tags": []
   },
   "outputs": [],
   "source": [
    "type(x)"
   ]
  },
  {
   "cell_type": "code",
   "execution_count": null,
   "id": "52658e80-227d-481e-a596-4aa2579a29dc",
   "metadata": {
    "tags": []
   },
   "outputs": [],
   "source": [
    "y = \"Min chocolate chip\"\n",
    "print(y)"
   ]
  },
  {
   "cell_type": "code",
   "execution_count": null,
   "id": "2d0f8397-ff3c-429b-9759-1038d18c8fb6",
   "metadata": {
    "tags": []
   },
   "outputs": [],
   "source": [
    "type(y)"
   ]
  },
  {
   "cell_type": "code",
   "execution_count": null,
   "id": "b9c974c1-59a5-4e2d-8d5f-812889f83f03",
   "metadata": {
    "tags": []
   },
   "outputs": [],
   "source": [
    "print(y)"
   ]
  },
  {
   "cell_type": "code",
   "execution_count": null,
   "id": "56742f75-990f-44c9-9ebb-d1a500c33401",
   "metadata": {
    "tags": []
   },
   "outputs": [],
   "source": [
    "x,y,z = 'chocolate', 'Vanilla', 'Rocky road'\n",
    "print(x)\n",
    "print(y)\n",
    "print(z)\n"
   ]
  },
  {
   "cell_type": "markdown",
   "id": "17a74bce-761d-47db-8e43-9ef13573e66a",
   "metadata": {},
   "source": [
    "## List variable"
   ]
  },
  {
   "cell_type": "code",
   "execution_count": null,
   "id": "8e41fe33-bcd6-4b5d-97c7-5ebe870afce9",
   "metadata": {
    "tags": []
   },
   "outputs": [],
   "source": [
    "ice_cream = ['chocolate', 'vanilla', 'rocky road']\n",
    "x,y,z = ice_cream\n",
    "\n",
    "print(x)\n",
    "print(y)\n",
    "print(z)"
   ]
  },
  {
   "cell_type": "markdown",
   "id": "a37734fc-90b1-4d2e-97e9-a689c6a4b648",
   "metadata": {},
   "source": [
    "## Best practices to create variable names\n",
    "#### snake case\n",
    " ice_cream\n",
    "#### camelcase\n",
    "iceCream"
   ]
  },
  {
   "cell_type": "code",
   "execution_count": null,
   "id": "25b7b4d3-4484-43fe-acde-177ba66dde32",
   "metadata": {
    "tags": []
   },
   "outputs": [],
   "source": [
    "a =1\n",
    "b = 2\n",
    "c = a + b\n",
    "print(c)"
   ]
  },
  {
   "cell_type": "code",
   "execution_count": null,
   "id": "2197692b-b63f-4181-ae69-70a34de75b6f",
   "metadata": {},
   "outputs": [],
   "source": []
  },
  {
   "cell_type": "code",
   "execution_count": null,
   "id": "b189268b-13dc-42a7-b225-3e40c3e5a039",
   "metadata": {},
   "outputs": [],
   "source": []
  },
  {
   "cell_type": "code",
   "execution_count": null,
   "id": "a953ab7c-8f81-4c88-bd65-a4bda49ca7f6",
   "metadata": {},
   "outputs": [],
   "source": []
  },
  {
   "cell_type": "code",
   "execution_count": null,
   "id": "d04a3ce6-f7bb-45e1-939c-3b42876c0d07",
   "metadata": {},
   "outputs": [],
   "source": []
  }
 ],
 "metadata": {
  "kernelspec": {
   "display_name": "Python 3 (ipykernel)",
   "language": "python",
   "name": "python3"
  },
  "language_info": {
   "codemirror_mode": {
    "name": "ipython",
    "version": 3
   },
   "file_extension": ".py",
   "mimetype": "text/x-python",
   "name": "python",
   "nbconvert_exporter": "python",
   "pygments_lexer": "ipython3",
   "version": "3.11.6"
  }
 },
 "nbformat": 4,
 "nbformat_minor": 5
}
